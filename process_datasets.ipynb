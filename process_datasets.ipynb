{
 "cells": [
  {
   "cell_type": "markdown",
   "metadata": {},
   "source": [
    "# Trabalho de Conclusão de Curso - PUC Minas\n",
    "\n",
    "**Aluno**: Rafael da Silva Rosa (RE: 1223770)\n",
    "\n",
    "Este trabalho tem como objetivo avaliar os dados de lutas do UFC e validar a performance de alguns Modelos de Machine Learning para avaliar a previsão de qual lutador irá vencer com base a algumas informações da luta.\n",
    "\n",
    "- **Fontes de dados**: https://www.kaggle.com/rajeevw/ufcdata\n",
    "\n",
    "\n",
    "- **Scrapping e enriquecimento dos dados dos lutadores**:\n",
    "    - https://www.tapology.com/fightcenter/fighters/\n",
    "    - https://www.sherdog.com/fighter/"
   ]
  },
  {
   "cell_type": "markdown",
   "metadata": {},
   "source": [
    "## Introdução\n",
    "\n",
    "**O que é (MMA)**: \n",
    "\n",
    "    \"As artes marciais mistas (MMA) são um esporte de combate de contato que permitem uma ampla variedade de técnicas e habilidades de luta, a partir da mistura de vários outros esportes de combate. As regras permitem o uso de golpes tanto em pé quanto no chão. A arte possibilita que atletas de diferentes origens participem da competição\"\n",
    "    \n",
    "Além das diferentes estilos de luta existentes, no MMA existem as seguintes formas de vencer:\n",
    "\n",
    "- **Finalização**: quando o atleta comunica desistência de forma física (usando a mão, dando tapas no chão) ou verbal.\n",
    "- **Nocaute**: quando o atleta fica inconsciente ou desacordado por causa de golpes ou impacto.\n",
    "- **Nocaute Técnico**: o árbitro interrompe a luta.\n",
    "- **Decisão via pontuação, incluindo Unânime**: todos os juízes escolhem o mesmo atleta como vencedor.\n",
    "- **Dividida**: um juiz escolhe um atleta e os outros dois juízes, o adversário.\n",
    "- **Majoritária**: dois juízes escolhem o mesmo atleta como vencedor. O terceiro juiz vê empate.\n",
    "- **Empate**: pode ser unânime, majoritário ou dividido.\n",
    "\n",
    "**Fonte**: https://www.ufc.com.br/intro-mma"
   ]
  },
  {
   "cell_type": "markdown",
   "metadata": {},
   "source": [
    "### Configuração da aplicação"
   ]
  },
  {
   "cell_type": "markdown",
   "metadata": {},
   "source": [
    "Nesta etapa da aplicação realizamos a instalação e a importação das bibliotecas necessárias, seguindo a regra do PEP 8 (https://pep8.org/)"
   ]
  },
  {
   "cell_type": "code",
   "execution_count": 1,
   "metadata": {},
   "outputs": [],
   "source": [
    "#!pip install xgboost"
   ]
  },
  {
   "cell_type": "code",
   "execution_count": 2,
   "metadata": {},
   "outputs": [],
   "source": [
    "# -*- coding: utf-8 -*-\n",
    "    \n",
    "import math as math\n",
    "import matplotlib.pyplot as plt\n",
    "import pandas as pd\n",
    "import seaborn as sn\n",
    "import numpy as np\n",
    "\n",
    "from datetime import datetime\n",
    "from datetime import date\n",
    "\n",
    "from sklearn.ensemble import RandomForestClassifier,GradientBoostingClassifier ,VotingClassifier\n",
    "from sklearn.model_selection import StratifiedKFold\n",
    "from sklearn.linear_model import LogisticRegression\n",
    "from sklearn.tree import DecisionTreeClassifier\n",
    "from sklearn.model_selection import train_test_split\n",
    "from sklearn import metrics\n",
    "from sklearn.model_selection import cross_val_score\n",
    "\n",
    "from xgboost import XGBClassifier\n",
    "\n",
    "from sklearn.model_selection import train_test_split\n",
    "from sklearn import datasets, metrics, model_selection, svm\n",
    "from sklearn.svm import SVC\n",
    "import matplotlib.pyplot as plt"
   ]
  },
  {
   "cell_type": "markdown",
   "metadata": {},
   "source": [
    "### Funções da aplicação"
   ]
  },
  {
   "cell_type": "markdown",
   "metadata": {},
   "source": [
    "Aqui agrupei as funções da aplicação, as funções criadas aqui são utilizadas para conversão de padrões americanos para brasileiros, tais como feet para centímetros, lbs para kilogramas etc. Também calculamos a idade, quantidade de lutas onde houve ganho ou perda do lutador de cada time.\n",
    "\n",
    "Calculamos a porcentagem e também criamos uma função para avaiação dos valores missing de um dataset."
   ]
  },
  {
   "cell_type": "code",
   "execution_count": 3,
   "metadata": {},
   "outputs": [],
   "source": [
    "def feet_to_cm(value):\n",
    "    '''Converte feet para centímetros'''\n",
    "    \n",
    "    if value == value:\n",
    "        value = str(value).replace(\"'\",\"\")\n",
    "        value = value.replace('\"','')\n",
    "        feet = value.split()[0]\n",
    "        inches = value.split()[1]\n",
    "        return round(float(feet) * 30.48 + float(inches) * 2.54,2)\n",
    "\n",
    "def lbs_to_kg(value):\n",
    "    '''Converte Lbs para Kg'''\n",
    "    \n",
    "    if value == value:\n",
    "        lbs = value.split()[0]\n",
    "        return round(float(lbs) * 0.45359237,2)\n",
    "\n",
    "def inches_to_cm(value):\n",
    "    '''Converte polegadas para centímetros'''\n",
    "    \n",
    "    if value == value:\n",
    "        #try:\n",
    "        #print(value)\n",
    "        inches = str(value).replace('\"',\"\")\n",
    "        return round(float(inches) * 2.54,2)\n",
    "\n",
    "def infer_reach(height, reach):\n",
    "    '''Inferir o reach em branco a partir da altura. \n",
    "       Em media, o alcance eh 2% maior que a altura'''\n",
    "    \n",
    "    if reach == reach:\n",
    "        return reach\n",
    "    else:\n",
    "        if height == height:\n",
    "            #print(height)\n",
    "            #print(reach)\n",
    "            return round(height * 1.025,2)\n",
    "        else:\n",
    "            return None\n",
    "\n",
    "def calculate_years(birth_date, fight_date):\n",
    "    '''Calculo da idade'''\n",
    "    \n",
    "    if birth_date == birth_date:\n",
    "        birth_date = datetime.strptime(birth_date, \"%b %d, %Y\")\n",
    "        fight_date = datetime.strptime(fight_date, \"%B %d, %Y\")\n",
    "        return fight_date.year - birth_date.year - ((fight_date.month, fight_date.day) \n",
    "                                                        < (birth_date.month, birth_date.day))\n",
    "    \n",
    "def calculate_wins(fight_date, fighter_name):\n",
    "    '''Calcula a quantidade de vitórias'''\n",
    "    \n",
    "    df_filtered = df_combats[(df_combats['date'] < fight_date) \n",
    "                              & (df_combats['Winner'] == fighter_name)]\n",
    "    return len(df_filtered)\n",
    "\n",
    "def calculate_losses(fight_date, fighter_name):\n",
    "    '''Calcula a quantidade de derrotas'''\n",
    "    \n",
    "    df_filtered = df_combats[(df_combats['date'] < fight_date) \n",
    "                             & ((df_combats['R_fighter'] == fighter_name) \n",
    "                                    | (df_combats['B_fighter'] == fighter_name)) \n",
    "                             & (df_combats['Winner'] != fighter_name)]\n",
    "    return len(df_filtered)\n",
    "\n",
    "def calculate_percentage(value):\n",
    "    '''Calcula a porcentagem'''\n",
    "        \n",
    "    v1 = int(value.split()[0])\n",
    "    v2 = int(value.split()[2])\n",
    "    if v1 > 0:\n",
    "        return round(v1/v2,2)\n",
    "    else:\n",
    "        return 0\n",
    "    \n",
    "def convert_stance(value):\n",
    "    '''Conversão dos valores categóricos (stance)'''\n",
    "    \n",
    "    if value == value:\n",
    "        value = value.upper()\n",
    "        \n",
    "        if value == 'OPEN STANCE':\n",
    "            return 1\n",
    "        elif value == 'ORTHODOX':\n",
    "            return 2\n",
    "        elif value == 'SWITCH':\n",
    "            return 3\n",
    "        elif value == 'SOUTHPAW':\n",
    "            return 4\n",
    "        elif value == 'SIDEWAYS':\n",
    "            return 5\n",
    "    return None\n",
    "\n",
    "def convert_fight_endings(value):\n",
    "    '''Conversão dos valores categóricos (fight_endings)'''\n",
    "    \n",
    "    value = value.upper()\n",
    "\n",
    "    if value == \"KO/TKO\":\n",
    "        return 1\n",
    "    elif value == \"TKO - DOCTORS'S STOPPAGE\":\n",
    "        return 2\n",
    "    elif value == 'DECISION - UNANIMOUS':\n",
    "        return 3\n",
    "    elif value == 'SUBMISSION':\n",
    "        return 4\n",
    "    elif value == 'DECISION - SPLIT':\n",
    "        return 5\n",
    "    elif value == 'COULD NOT CONTINUE':\n",
    "        return 6\n",
    "    elif value == 'DECISION - MAJORITY':\n",
    "        return 7\n",
    "    elif value == 'DQ':\n",
    "        return 8\n",
    "    elif value == 'OTHER':\n",
    "        return 9\n",
    "    elif value == 'OVERTURNED':\n",
    "        return 10\n",
    "    \n",
    "def adjust_percentage(value):\n",
    "    '''Converte a porcentagem (texto) em valor numérico'''\n",
    "    \n",
    "    if value == value:\n",
    "        value = str(value)\n",
    "        value = int(value.replace('%',''))\n",
    "        return round(value / 100,2)\n",
    "    return None\n",
    "\n",
    "def missing_values(df):\n",
    "    '''Calcula a quantidade de valores faltantes em um dataframe'''\n",
    "    \n",
    "    percent_missing = df.isnull().sum() * 100 / len(df)\n",
    "    missing_value_df = pd.DataFrame({'column_name': df.columns,\n",
    "                                  'percent_missing': percent_missing}).round(2)\n",
    "\n",
    "    missing_value_df.sort_values('percent_missing', inplace=True)\n",
    "    return missing_value_df\n",
    "\n",
    "def transform_win_data(x):\n",
    "    '''Converte o valor categórico para ser encaminhado ao modelo'''\n",
    "    \n",
    "    if x['R_fighter'] == x['Winner']: return 0\n",
    "    else: return 1\n",
    "    \n",
    "def model_performance(model,X_test, y_test, y_val_pred):\n",
    "    '''Apresenta as métricas principais do modelo'''\n",
    "    \n",
    "    print(\"ACURÁCIA:                \",round(metrics.accuracy_score(y_test,y_val_pred),4))  \n",
    "    print (\"PRECISÃO:                \",round(metrics.precision_score(y_test, y_val_pred),4))\n",
    "    print (\"F1-SCORE:                \",round(metrics.f1_score(y_test, y_val_pred),4))\n",
    "    print (\"ERRO QUADRADO AJUSTADO:  \",round(metrics.adjusted_rand_score(y_test, y_val_pred),4))    \n",
    "    print (\"ROC SCORE:               \",round(metrics.roc_auc_score(y_test, y_val_pred),4))  \n",
    "    print (\"MATRIZ DE CONFUSÃO:      \\n\",metrics.confusion_matrix(y_test, y_val_pred))"
   ]
  },
  {
   "cell_type": "markdown",
   "metadata": {},
   "source": [
    "### Importação dos datasets\n",
    "\n",
    "- **scraped_fighter_data.csv**: Dataset criado pelo processo de scrapping que foi documentado em \"ufc_fighters_data_scrapper\"\n",
    "- **raw_total_fight_data.csv**: Dataset obtido pelo desafio Kaggle"
   ]
  },
  {
   "cell_type": "markdown",
   "metadata": {},
   "source": [
    "#### Descrição das variáveis\n",
    "\n",
    "\n",
    "- R_KD e B_KD = numero de knockdowns que o lutador deu no outro\n",
    "- Os prefixos R_ e B_ significam estatísticas de lutador de canto vermelho e azul, respectivamente\n",
    "\n",
    "| Coluna                      | Descrição                                                                                    |\n",
    "|-|-|\n",
    "| KD \t\t\t\t\t\t  |Número de nocautes                                                                            |\n",
    "| SIG_STR \t\t\t\t\t  |Numero de golpes relevantes (golpes encaixados vs. tentativas)                                |\n",
    "| SIG_STR_pct \t\t\t\t  |Percentual da coluna acima (golpes acertados vs. tentativas)                                  |\n",
    "| TOTAL_STR \t\t\t\t  |Numero de golpes (relevantes ou não) (golpes acertados vs. tentativas)                        |\n",
    "| TD \t\t\t\t\t\t  |Número de quedas                                                                              |\n",
    "| TD_pct \t\t\t\t\t  |Percentual de quedas                                                                          |\n",
    "| SUB_ATT \t\t\t\t\t  |Tentativas de submissão                                                                       |\n",
    "| PASS \t\t\t\t\t\t  |Número de vezes que a guarda foi passada (movimento do Jiu Jitsu)                             |\n",
    "| REV \t\t\t\t\t\t  |Número de reversões                                                                           |\n",
    "| HEAD \t\t\t\t\t\t  |Número de golpes relevantes na cabeça (acertados vs. tentativas)                              |\n",
    "| BODY \t\t\t\t\t\t  |Número de golpes relevantes no corpor (acertados vs. tentativas)                              |\n",
    "| CLINCH \t\t\t\t\t  |Número de golpes relevantes enquanto estava no clinch (acertados vs. tentativas)              |\n",
    "| GROUND \t\t\t\t\t  |Número de golpes relevantes enquanto estava no chão (acertados vs. tentativas)                |\n",
    "| WIN_BY \t\t\t\t\t  |Método de vitória                                                                             |\n",
    "| LAST_ROUND \t\t\t\t  |Último round da luta (exemplo: se foi um nocaute no primeiro round, então o campo será 1)     |\n",
    "| LAST_ROUND_TIME \t\t\t  |Quando a luta foi finalizada no último round                                                  |\n",
    "| FORMAT \t\t\t\t\t  |Formato da luta (3 rounds, 5 rounds, etc)                                                     |\n",
    "| REFEREE \t\t\t\t\t  |Nome do juiz                                                                                  |\n",
    "| DATE \t\t\t\t\t\t  |Data da luta                                                                                  |\n",
    "| LOCATION \t\t\t\t\t  |Localidade da luta                                                                            |\n",
    "| FIGHT_TYPE \t\t\t\t  |Qual a categoria e se é uma disputa de título ou não                                          |\n",
    "| WINNER \t\t\t\t\t  |Vencedor da luta                                                                              |\n",
    "| STANCE \t\t\t\t\t  |Posição de luta (ortodoxo (destro), pata  do sul (canhoto), etc)                              |\n",
    "| HEIGHT_CMS \t\t\t\t  |Altura em centimetros                                                                         |\n",
    "| REACH_CMS \t\t\t\t  |Alcance do lutador em centímetros                                                             |\n",
    "| WEIGHT_LBS \t\t\t\t  |Peso do lutador em libras                                                                     |\n",
    "| AGE \t\t\t\t\t\t  |Idade do lutador                                                                              |\n",
    "| TITLE_BOUT \t\t\t\t  |Booleano que indica se é uma disputa de título ou não                                         |\n",
    "| WEIGHT_CLASS \t\t\t\t  |Categoria do lutador (peso galo, peso pesado, peso mosca feminino, etc)                       |\n",
    "| NO_OF_ROUNDS \t\t\t\t  |Número de rounds previsto para a luta                                                         |\n",
    "| CURRENT_LOSE_STREAK \t\t  |Número de derrotas seguidas do lutador                                                        |\n",
    "| CURRENT_WIN_STREAK \t\t  |Número de vitórias seguidas do lutador                                                        |\n",
    "| DRAW \t\t\t\t\t\t  |Número de empates na carreira do lutador no UFC                                               |\n",
    "| WINS \t\t\t\t\t\t  |Número de vitórias na carreira do lutador no UFC                                              |\n",
    "| LOSSES \t\t\t\t\t  |Número de derrotas na carreira do lutador no UFC                                              |\n",
    "| TOTAL_ROUNDS_FOUGHT \t\t  |Total de rounds disputados pelo lutador                                                       |\n",
    "| TOTAL_TIME_FOUGHT \t\t  |Tempo total lutando em segundos                                                               |\n",
    "| TOTAL_TITLE_BOUTS \t\t  |Total de disputas por título que o lutador disputou                                           |\n",
    "| WIN_BY_DECISION_MAJORITY \t  |Total de vitórias por decisão da maioria dos juízes no UFC                                    |\n",
    "| WIN_BY_DECISION_SPLIT \t  |Total de vitórias por decisão dividida dos juízes no UFC                                      |\n",
    "| WIN_BY_DECISION_UNANIMOUS   |Total de vitórias por decisão unânima dos juízes no UFC                                       |\n",
    "| WIN_BY_KO/TKO \t\t\t  |Número de vitórias por nocaute                                                                |\n",
    "| WIN_BY_SUBMISSION \t\t  |Número de vitórias por submissão                                                              |\n",
    "| WIN_BY_TKO_DOCTOR_STOPPAGE  |Número de vitórias por decisão do médico                                                      |"
   ]
  },
  {
   "cell_type": "markdown",
   "metadata": {},
   "source": [
    "### Importação do dataset\n",
    "\n",
    "Realizamos a importação de ambos dataset, o obtido no Kaggle e o obtivos via Scrapper."
   ]
  },
  {
   "cell_type": "code",
   "execution_count": 4,
   "metadata": {},
   "outputs": [],
   "source": [
    "df_fighters = pd.read_csv('data/scraped_fighter_data.csv')\n",
    "df_combats = pd.read_csv('data/raw_total_fight_data.csv', delimiter=\";\")"
   ]
  },
  {
   "cell_type": "code",
   "execution_count": 5,
   "metadata": {},
   "outputs": [
    {
     "name": "stdout",
     "output_type": "stream",
     "text": [
      "<class 'pandas.core.frame.DataFrame'>\n",
      "RangeIndex: 5144 entries, 0 to 5143\n",
      "Data columns (total 41 columns):\n",
      " #   Column           Non-Null Count  Dtype \n",
      "---  ------           --------------  ----- \n",
      " 0   R_fighter        5144 non-null   object\n",
      " 1   B_fighter        5144 non-null   object\n",
      " 2   R_KD             5144 non-null   int64 \n",
      " 3   B_KD             5144 non-null   int64 \n",
      " 4   R_SIG_STR.       5144 non-null   object\n",
      " 5   B_SIG_STR.       5144 non-null   object\n",
      " 6   R_SIG_STR_pct    5144 non-null   object\n",
      " 7   B_SIG_STR_pct    5144 non-null   object\n",
      " 8   R_TOTAL_STR.     5144 non-null   object\n",
      " 9   B_TOTAL_STR.     5144 non-null   object\n",
      " 10  R_TD             5144 non-null   object\n",
      " 11  B_TD             5144 non-null   object\n",
      " 12  R_TD_pct         5144 non-null   object\n",
      " 13  B_TD_pct         5144 non-null   object\n",
      " 14  R_SUB_ATT        5144 non-null   int64 \n",
      " 15  B_SUB_ATT        5144 non-null   int64 \n",
      " 16  R_PASS           5144 non-null   int64 \n",
      " 17  B_PASS           5144 non-null   int64 \n",
      " 18  R_REV            5144 non-null   int64 \n",
      " 19  B_REV            5144 non-null   int64 \n",
      " 20  R_HEAD           5144 non-null   object\n",
      " 21  B_HEAD           5144 non-null   object\n",
      " 22  R_BODY           5144 non-null   object\n",
      " 23  B_BODY           5144 non-null   object\n",
      " 24  R_LEG            5144 non-null   object\n",
      " 25  B_LEG            5144 non-null   object\n",
      " 26  R_DISTANCE       5144 non-null   object\n",
      " 27  B_DISTANCE       5144 non-null   object\n",
      " 28  R_CLINCH         5144 non-null   object\n",
      " 29  B_CLINCH         5144 non-null   object\n",
      " 30  R_GROUND         5144 non-null   object\n",
      " 31  B_GROUND         5144 non-null   object\n",
      " 32  win_by           5144 non-null   object\n",
      " 33  last_round       5144 non-null   int64 \n",
      " 34  last_round_time  5144 non-null   object\n",
      " 35  Format           5144 non-null   object\n",
      " 36  Referee          5121 non-null   object\n",
      " 37  date             5144 non-null   object\n",
      " 38  location         5144 non-null   object\n",
      " 39  Fight_type       5144 non-null   object\n",
      " 40  Winner           5061 non-null   object\n",
      "dtypes: int64(9), object(32)\n",
      "memory usage: 1.6+ MB\n"
     ]
    }
   ],
   "source": [
    "df_combats.info()"
   ]
  },
  {
   "cell_type": "code",
   "execution_count": 6,
   "metadata": {},
   "outputs": [
    {
     "name": "stdout",
     "output_type": "stream",
     "text": [
      "<class 'pandas.core.frame.DataFrame'>\n",
      "RangeIndex: 3313 entries, 0 to 3312\n",
      "Data columns (total 7 columns):\n",
      " #   Column        Non-Null Count  Dtype \n",
      "---  ------        --------------  ----- \n",
      " 0   Unnamed: 0    3313 non-null   int64 \n",
      " 1   fighter_name  3313 non-null   object\n",
      " 2   Height        3214 non-null   object\n",
      " 3   Weight        3286 non-null   object\n",
      " 4   Reach         2049 non-null   object\n",
      " 5   Stance        2439 non-null   object\n",
      " 6   DOB           2919 non-null   object\n",
      "dtypes: int64(1), object(6)\n",
      "memory usage: 181.3+ KB\n"
     ]
    }
   ],
   "source": [
    "df_fighters.info()"
   ]
  },
  {
   "cell_type": "code",
   "execution_count": 7,
   "metadata": {
    "scrolled": false
   },
   "outputs": [
    {
     "data": {
      "text/html": [
       "<div>\n",
       "<style scoped>\n",
       "    .dataframe tbody tr th:only-of-type {\n",
       "        vertical-align: middle;\n",
       "    }\n",
       "\n",
       "    .dataframe tbody tr th {\n",
       "        vertical-align: top;\n",
       "    }\n",
       "\n",
       "    .dataframe thead th {\n",
       "        text-align: right;\n",
       "    }\n",
       "</style>\n",
       "<table border=\"1\" class=\"dataframe\">\n",
       "  <thead>\n",
       "    <tr style=\"text-align: right;\">\n",
       "      <th></th>\n",
       "      <th>column_name</th>\n",
       "      <th>percent_missing</th>\n",
       "    </tr>\n",
       "  </thead>\n",
       "  <tbody>\n",
       "    <tr>\n",
       "      <th>R_fighter</th>\n",
       "      <td>R_fighter</td>\n",
       "      <td>0.00</td>\n",
       "    </tr>\n",
       "    <tr>\n",
       "      <th>R_BODY</th>\n",
       "      <td>R_BODY</td>\n",
       "      <td>0.00</td>\n",
       "    </tr>\n",
       "    <tr>\n",
       "      <th>B_BODY</th>\n",
       "      <td>B_BODY</td>\n",
       "      <td>0.00</td>\n",
       "    </tr>\n",
       "    <tr>\n",
       "      <th>R_LEG</th>\n",
       "      <td>R_LEG</td>\n",
       "      <td>0.00</td>\n",
       "    </tr>\n",
       "    <tr>\n",
       "      <th>B_LEG</th>\n",
       "      <td>B_LEG</td>\n",
       "      <td>0.00</td>\n",
       "    </tr>\n",
       "    <tr>\n",
       "      <th>R_DISTANCE</th>\n",
       "      <td>R_DISTANCE</td>\n",
       "      <td>0.00</td>\n",
       "    </tr>\n",
       "    <tr>\n",
       "      <th>B_DISTANCE</th>\n",
       "      <td>B_DISTANCE</td>\n",
       "      <td>0.00</td>\n",
       "    </tr>\n",
       "    <tr>\n",
       "      <th>R_CLINCH</th>\n",
       "      <td>R_CLINCH</td>\n",
       "      <td>0.00</td>\n",
       "    </tr>\n",
       "    <tr>\n",
       "      <th>B_HEAD</th>\n",
       "      <td>B_HEAD</td>\n",
       "      <td>0.00</td>\n",
       "    </tr>\n",
       "    <tr>\n",
       "      <th>B_CLINCH</th>\n",
       "      <td>B_CLINCH</td>\n",
       "      <td>0.00</td>\n",
       "    </tr>\n",
       "    <tr>\n",
       "      <th>B_GROUND</th>\n",
       "      <td>B_GROUND</td>\n",
       "      <td>0.00</td>\n",
       "    </tr>\n",
       "    <tr>\n",
       "      <th>win_by</th>\n",
       "      <td>win_by</td>\n",
       "      <td>0.00</td>\n",
       "    </tr>\n",
       "    <tr>\n",
       "      <th>last_round</th>\n",
       "      <td>last_round</td>\n",
       "      <td>0.00</td>\n",
       "    </tr>\n",
       "    <tr>\n",
       "      <th>last_round_time</th>\n",
       "      <td>last_round_time</td>\n",
       "      <td>0.00</td>\n",
       "    </tr>\n",
       "    <tr>\n",
       "      <th>Format</th>\n",
       "      <td>Format</td>\n",
       "      <td>0.00</td>\n",
       "    </tr>\n",
       "    <tr>\n",
       "      <th>date</th>\n",
       "      <td>date</td>\n",
       "      <td>0.00</td>\n",
       "    </tr>\n",
       "    <tr>\n",
       "      <th>location</th>\n",
       "      <td>location</td>\n",
       "      <td>0.00</td>\n",
       "    </tr>\n",
       "    <tr>\n",
       "      <th>R_GROUND</th>\n",
       "      <td>R_GROUND</td>\n",
       "      <td>0.00</td>\n",
       "    </tr>\n",
       "    <tr>\n",
       "      <th>Fight_type</th>\n",
       "      <td>Fight_type</td>\n",
       "      <td>0.00</td>\n",
       "    </tr>\n",
       "    <tr>\n",
       "      <th>R_HEAD</th>\n",
       "      <td>R_HEAD</td>\n",
       "      <td>0.00</td>\n",
       "    </tr>\n",
       "    <tr>\n",
       "      <th>R_REV</th>\n",
       "      <td>R_REV</td>\n",
       "      <td>0.00</td>\n",
       "    </tr>\n",
       "    <tr>\n",
       "      <th>B_fighter</th>\n",
       "      <td>B_fighter</td>\n",
       "      <td>0.00</td>\n",
       "    </tr>\n",
       "    <tr>\n",
       "      <th>R_KD</th>\n",
       "      <td>R_KD</td>\n",
       "      <td>0.00</td>\n",
       "    </tr>\n",
       "    <tr>\n",
       "      <th>B_KD</th>\n",
       "      <td>B_KD</td>\n",
       "      <td>0.00</td>\n",
       "    </tr>\n",
       "    <tr>\n",
       "      <th>R_SIG_STR.</th>\n",
       "      <td>R_SIG_STR.</td>\n",
       "      <td>0.00</td>\n",
       "    </tr>\n",
       "    <tr>\n",
       "      <th>B_SIG_STR.</th>\n",
       "      <td>B_SIG_STR.</td>\n",
       "      <td>0.00</td>\n",
       "    </tr>\n",
       "    <tr>\n",
       "      <th>R_SIG_STR_pct</th>\n",
       "      <td>R_SIG_STR_pct</td>\n",
       "      <td>0.00</td>\n",
       "    </tr>\n",
       "    <tr>\n",
       "      <th>B_SIG_STR_pct</th>\n",
       "      <td>B_SIG_STR_pct</td>\n",
       "      <td>0.00</td>\n",
       "    </tr>\n",
       "    <tr>\n",
       "      <th>B_REV</th>\n",
       "      <td>B_REV</td>\n",
       "      <td>0.00</td>\n",
       "    </tr>\n",
       "    <tr>\n",
       "      <th>R_TOTAL_STR.</th>\n",
       "      <td>R_TOTAL_STR.</td>\n",
       "      <td>0.00</td>\n",
       "    </tr>\n",
       "    <tr>\n",
       "      <th>R_TD</th>\n",
       "      <td>R_TD</td>\n",
       "      <td>0.00</td>\n",
       "    </tr>\n",
       "    <tr>\n",
       "      <th>B_TD</th>\n",
       "      <td>B_TD</td>\n",
       "      <td>0.00</td>\n",
       "    </tr>\n",
       "    <tr>\n",
       "      <th>R_TD_pct</th>\n",
       "      <td>R_TD_pct</td>\n",
       "      <td>0.00</td>\n",
       "    </tr>\n",
       "    <tr>\n",
       "      <th>B_TD_pct</th>\n",
       "      <td>B_TD_pct</td>\n",
       "      <td>0.00</td>\n",
       "    </tr>\n",
       "    <tr>\n",
       "      <th>R_SUB_ATT</th>\n",
       "      <td>R_SUB_ATT</td>\n",
       "      <td>0.00</td>\n",
       "    </tr>\n",
       "    <tr>\n",
       "      <th>B_SUB_ATT</th>\n",
       "      <td>B_SUB_ATT</td>\n",
       "      <td>0.00</td>\n",
       "    </tr>\n",
       "    <tr>\n",
       "      <th>R_PASS</th>\n",
       "      <td>R_PASS</td>\n",
       "      <td>0.00</td>\n",
       "    </tr>\n",
       "    <tr>\n",
       "      <th>B_PASS</th>\n",
       "      <td>B_PASS</td>\n",
       "      <td>0.00</td>\n",
       "    </tr>\n",
       "    <tr>\n",
       "      <th>B_TOTAL_STR.</th>\n",
       "      <td>B_TOTAL_STR.</td>\n",
       "      <td>0.00</td>\n",
       "    </tr>\n",
       "    <tr>\n",
       "      <th>Referee</th>\n",
       "      <td>Referee</td>\n",
       "      <td>0.45</td>\n",
       "    </tr>\n",
       "    <tr>\n",
       "      <th>Winner</th>\n",
       "      <td>Winner</td>\n",
       "      <td>1.61</td>\n",
       "    </tr>\n",
       "  </tbody>\n",
       "</table>\n",
       "</div>"
      ],
      "text/plain": [
       "                     column_name  percent_missing\n",
       "R_fighter              R_fighter             0.00\n",
       "R_BODY                    R_BODY             0.00\n",
       "B_BODY                    B_BODY             0.00\n",
       "R_LEG                      R_LEG             0.00\n",
       "B_LEG                      B_LEG             0.00\n",
       "R_DISTANCE            R_DISTANCE             0.00\n",
       "B_DISTANCE            B_DISTANCE             0.00\n",
       "R_CLINCH                R_CLINCH             0.00\n",
       "B_HEAD                    B_HEAD             0.00\n",
       "B_CLINCH                B_CLINCH             0.00\n",
       "B_GROUND                B_GROUND             0.00\n",
       "win_by                    win_by             0.00\n",
       "last_round            last_round             0.00\n",
       "last_round_time  last_round_time             0.00\n",
       "Format                    Format             0.00\n",
       "date                        date             0.00\n",
       "location                location             0.00\n",
       "R_GROUND                R_GROUND             0.00\n",
       "Fight_type            Fight_type             0.00\n",
       "R_HEAD                    R_HEAD             0.00\n",
       "R_REV                      R_REV             0.00\n",
       "B_fighter              B_fighter             0.00\n",
       "R_KD                        R_KD             0.00\n",
       "B_KD                        B_KD             0.00\n",
       "R_SIG_STR.            R_SIG_STR.             0.00\n",
       "B_SIG_STR.            B_SIG_STR.             0.00\n",
       "R_SIG_STR_pct      R_SIG_STR_pct             0.00\n",
       "B_SIG_STR_pct      B_SIG_STR_pct             0.00\n",
       "B_REV                      B_REV             0.00\n",
       "R_TOTAL_STR.        R_TOTAL_STR.             0.00\n",
       "R_TD                        R_TD             0.00\n",
       "B_TD                        B_TD             0.00\n",
       "R_TD_pct                R_TD_pct             0.00\n",
       "B_TD_pct                B_TD_pct             0.00\n",
       "R_SUB_ATT              R_SUB_ATT             0.00\n",
       "B_SUB_ATT              B_SUB_ATT             0.00\n",
       "R_PASS                    R_PASS             0.00\n",
       "B_PASS                    B_PASS             0.00\n",
       "B_TOTAL_STR.        B_TOTAL_STR.             0.00\n",
       "Referee                  Referee             0.45\n",
       "Winner                    Winner             1.61"
      ]
     },
     "execution_count": 7,
     "metadata": {},
     "output_type": "execute_result"
    }
   ],
   "source": [
    "missing_values(df_combats)"
   ]
  },
  {
   "cell_type": "code",
   "execution_count": 8,
   "metadata": {},
   "outputs": [
    {
     "data": {
      "text/html": [
       "<div>\n",
       "<style scoped>\n",
       "    .dataframe tbody tr th:only-of-type {\n",
       "        vertical-align: middle;\n",
       "    }\n",
       "\n",
       "    .dataframe tbody tr th {\n",
       "        vertical-align: top;\n",
       "    }\n",
       "\n",
       "    .dataframe thead th {\n",
       "        text-align: right;\n",
       "    }\n",
       "</style>\n",
       "<table border=\"1\" class=\"dataframe\">\n",
       "  <thead>\n",
       "    <tr style=\"text-align: right;\">\n",
       "      <th></th>\n",
       "      <th>column_name</th>\n",
       "      <th>percent_missing</th>\n",
       "    </tr>\n",
       "  </thead>\n",
       "  <tbody>\n",
       "    <tr>\n",
       "      <th>Unnamed: 0</th>\n",
       "      <td>Unnamed: 0</td>\n",
       "      <td>0.00</td>\n",
       "    </tr>\n",
       "    <tr>\n",
       "      <th>fighter_name</th>\n",
       "      <td>fighter_name</td>\n",
       "      <td>0.00</td>\n",
       "    </tr>\n",
       "    <tr>\n",
       "      <th>Weight</th>\n",
       "      <td>Weight</td>\n",
       "      <td>0.81</td>\n",
       "    </tr>\n",
       "    <tr>\n",
       "      <th>Height</th>\n",
       "      <td>Height</td>\n",
       "      <td>2.99</td>\n",
       "    </tr>\n",
       "    <tr>\n",
       "      <th>DOB</th>\n",
       "      <td>DOB</td>\n",
       "      <td>11.89</td>\n",
       "    </tr>\n",
       "    <tr>\n",
       "      <th>Stance</th>\n",
       "      <td>Stance</td>\n",
       "      <td>26.38</td>\n",
       "    </tr>\n",
       "    <tr>\n",
       "      <th>Reach</th>\n",
       "      <td>Reach</td>\n",
       "      <td>38.15</td>\n",
       "    </tr>\n",
       "  </tbody>\n",
       "</table>\n",
       "</div>"
      ],
      "text/plain": [
       "               column_name  percent_missing\n",
       "Unnamed: 0      Unnamed: 0             0.00\n",
       "fighter_name  fighter_name             0.00\n",
       "Weight              Weight             0.81\n",
       "Height              Height             2.99\n",
       "DOB                    DOB            11.89\n",
       "Stance              Stance            26.38\n",
       "Reach                Reach            38.15"
      ]
     },
     "execution_count": 8,
     "metadata": {},
     "output_type": "execute_result"
    }
   ],
   "source": [
    "missing_values(df_fighters)"
   ]
  },
  {
   "cell_type": "markdown",
   "metadata": {},
   "source": [
    "### Tratamento dos dados"
   ]
  },
  {
   "cell_type": "markdown",
   "metadata": {},
   "source": [
    "Nesta etapa, realizei a padronização dos dados para os volumes no padrão brasileiro."
   ]
  },
  {
   "cell_type": "code",
   "execution_count": 9,
   "metadata": {},
   "outputs": [],
   "source": [
    "################# Normalização dos dados #################\n",
    "df_fighters['Height'] = df_fighters['Height'].apply(feet_to_cm)\n",
    "df_fighters['Weight'] = df_fighters['Weight'].apply(lbs_to_kg)\n",
    "df_fighters['Reach']  =  df_fighters['Reach'].apply(inches_to_cm)"
   ]
  },
  {
   "cell_type": "markdown",
   "metadata": {},
   "source": [
    "Inferi o alcance em branco a partir da altura. Em media, o alcance eh 2% maior que a altura."
   ]
  },
  {
   "cell_type": "code",
   "execution_count": 10,
   "metadata": {},
   "outputs": [],
   "source": [
    "# Inferir o reach em branco a partir da altura. \n",
    "df_fighters['Reach'] = df_fighters.apply(lambda row: infer_reach(row['Height'],row['Reach']), axis=1)"
   ]
  },
  {
   "cell_type": "markdown",
   "metadata": {},
   "source": [
    "Apliquei o merge nos dados unindo a informação obtida no processo de Scrapping (\"ufc_fighters_data_scrapper.ipynb\")"
   ]
  },
  {
   "cell_type": "code",
   "execution_count": 11,
   "metadata": {},
   "outputs": [],
   "source": [
    "################# Uniao dos Datasets #################\n",
    "\n",
    "df_combats = pd.merge(df_combats, df_fighters, left_on='R_fighter', right_on='fighter_name', how='left')\n",
    "\n",
    "df_combats = df_combats.rename(columns={'Height':'Red_Fighter_Height',\n",
    "                                        'Weight':'Red_Fighter_Weight',\n",
    "                                        'Reach':'Red_Fighter_Reach',\n",
    "                                        'Stance':'Red_Fighter_Stance',\n",
    "                                        'DOB':'Red_Fighter_DOB'})\n",
    "\n",
    "df_combats = df_combats.drop('fighter_name', axis=1)\n",
    "\n",
    "df_combats = pd.merge(df_combats, df_fighters, left_on='B_fighter', right_on='fighter_name', how='left')\n",
    "\n",
    "df_combats = df_combats.rename(columns={'Height':'Blue_Fighter_Height',\n",
    "                                        'Weight':'Blue_Fighter_Weight',\n",
    "                                        'Reach':'Blue_Fighter_Reach',\n",
    "                                        'Stance':'Blue_Fighter_Stance',\n",
    "                                        'DOB':'Blue_Fighter_DOB'})\n",
    "\n",
    "df_combats = df_combats.drop('fighter_name', axis=1)"
   ]
  },
  {
   "cell_type": "markdown",
   "metadata": {},
   "source": [
    "Nesta etapa realizei alguns ajustes necessários, tais como cálculo da idade com base na data de aniversário e data da lura, conversão de tipo e limpeza dos campos temporários"
   ]
  },
  {
   "cell_type": "code",
   "execution_count": 12,
   "metadata": {},
   "outputs": [],
   "source": [
    "################# Calcular idade #################\n",
    "\n",
    "df_combats['Red_Fighter_Age'] = df_combats.apply(lambda row: calculate_years(row['Red_Fighter_DOB'], row['date']), axis=1)\n",
    "df_combats['Blue_Fighter_Age'] = df_combats.apply(lambda row: calculate_years(row['Blue_Fighter_DOB'], row['date']), axis=1)\n",
    "\n",
    "df_combats['Red_Fighter_Age'] = df_combats['Red_Fighter_Age'].astype(pd.Int16Dtype())\n",
    "df_combats['Blue_Fighter_Age'] = df_combats['Blue_Fighter_Age'].astype(pd.Int16Dtype())\n",
    "\n",
    "# Apagar colunas que nao serao utilizadas\n",
    "df_combats.drop(columns=['Red_Fighter_DOB','Blue_Fighter_DOB'], inplace=True)\n",
    "df_combats.drop(columns=['Unnamed: 0_x','Unnamed: 0_y'], inplace=True)\n",
    "\n",
    "################# Converter DataType #################\n",
    "df_combats['date'] = pd.to_datetime(df_combats['date'], format=\"%B %d, %Y\")"
   ]
  },
  {
   "cell_type": "markdown",
   "metadata": {},
   "source": [
    "Criar uma coluna com o contador de vitorias do lutador B e R. Contar quantas vezes ele apareceu no campo winner nas lutas anteriores a data da luta observada."
   ]
  },
  {
   "cell_type": "code",
   "execution_count": null,
   "metadata": {},
   "outputs": [],
   "source": [
    "################# Calcular número de vitórias / derrotas #################\n",
    "df_combats['Blue_wins'] = df_combats.apply(lambda row: calculate_wins(row['date'],row['B_fighter']), axis=1)\n",
    "df_combats['Red_wins'] = df_combats.apply(lambda row: calculate_wins(row['date'],row['R_fighter']), axis=1)\n",
    "\n",
    "df_combats['Blue_losses'] = df_combats.apply(lambda row: calculate_losses(row['date'],row['B_fighter']), axis=1)\n",
    "df_combats['Red_losses'] = df_combats.apply(lambda row: calculate_losses(row['date'],row['R_fighter']), axis=1)\n",
    "\n",
    "################# Apagar colunas que nao serao mais utilizadas #################\n",
    "df_combats.drop(columns=['last_round','last_round_time','R_TD','B_TD',\n",
    "                         'R_SIG_STR.','B_SIG_STR.','R_DISTANCE','B_DISTANCE'], inplace=True)"
   ]
  },
  {
   "cell_type": "markdown",
   "metadata": {},
   "source": [
    "Calcula a porcentagem dos campos a seguir, com essa normalização o dado poderá ser melhor interpretado no modelo."
   ]
  },
  {
   "cell_type": "code",
   "execution_count": null,
   "metadata": {},
   "outputs": [],
   "source": [
    "################# Aplicar porcentagem para os campos #################\n",
    "\n",
    "df_combats['R_TOTAL_STR.'] = df_combats['R_TOTAL_STR.'].apply(calculate_percentage)\n",
    "df_combats['B_TOTAL_STR.'] = df_combats['B_TOTAL_STR.'].apply(calculate_percentage)\n",
    "df_combats['R_HEAD']       = df_combats['R_HEAD'].apply(calculate_percentage)\n",
    "df_combats['B_HEAD']       = df_combats['B_HEAD'].apply(calculate_percentage)\n",
    "df_combats['R_BODY']       = df_combats['R_BODY'].apply(calculate_percentage)\n",
    "df_combats['B_BODY']       = df_combats['B_BODY'].apply(calculate_percentage)\n",
    "df_combats['R_LEG']        = df_combats['R_LEG'].apply(calculate_percentage)\n",
    "df_combats['B_LEG']        = df_combats['B_LEG'].apply(calculate_percentage)\n",
    "df_combats['R_CLINCH']     = df_combats['R_CLINCH'].apply(calculate_percentage)\n",
    "df_combats['B_CLINCH']     = df_combats['B_CLINCH'].apply(calculate_percentage)\n",
    "df_combats['R_GROUND']     = df_combats['R_GROUND'].apply(calculate_percentage)\n",
    "df_combats['B_GROUND']     = df_combats['B_GROUND'].apply(calculate_percentage)\n",
    "\n",
    "df_combats['R_SIG_STR_pct'] = df_combats['R_SIG_STR_pct'].apply(adjust_percentage)\n",
    "df_combats['B_SIG_STR_pct'] = df_combats['B_SIG_STR_pct'].apply(adjust_percentage)\n",
    "df_combats['R_TD_pct']      = df_combats['R_TD_pct'].apply(adjust_percentage)\n",
    "df_combats['B_TD_pct']      = df_combats['B_TD_pct'].apply(adjust_percentage)"
   ]
  },
  {
   "cell_type": "markdown",
   "metadata": {},
   "source": [
    "Para processar as informações do modelo precisamos transformar os valores categóricos em valores Dummies, desta forma neste caso como a quantidade era menor, a seleção dos valores foi feita manualmente para os campos abaixo:"
   ]
  },
  {
   "cell_type": "code",
   "execution_count": null,
   "metadata": {},
   "outputs": [],
   "source": [
    "#Aplicar funcao Dummies - Selecao Manual\n",
    "df_combats['Blue_Fighter_Stance'] = df_combats['Blue_Fighter_Stance'].apply(convert_stance)\n",
    "df_combats['Red_Fighter_Stance']  = df_combats['Red_Fighter_Stance'].apply(convert_stance)\n",
    "df_combats['win_by_']             = df_combats['win_by'].apply(convert_fight_endings)\n",
    "\n",
    "#Converter tipo de dado\n",
    "df_combats['Blue_Fighter_Stance'] = df_combats['Blue_Fighter_Stance'].astype(pd.Int16Dtype())\n",
    "df_combats['Red_Fighter_Stance']  = df_combats['Red_Fighter_Stance'].astype(pd.Int16Dtype())\n",
    "df_combats['win_by_']             = df_combats['win_by_'].astype(pd.Int16Dtype())\n",
    "\n",
    "# Apaga registro sem informação de vencedor\n",
    "df_combats.dropna(subset=['Winner'], inplace=True)\n",
    "df_combats.dropna(subset=['win_by_'], inplace=True)"
   ]
  },
  {
   "cell_type": "markdown",
   "metadata": {},
   "source": [
    "A estrutura do dataset ao final do pré-processamento se mantém com 4.991 registros e 47 colunas:"
   ]
  },
  {
   "cell_type": "code",
   "execution_count": null,
   "metadata": {
    "scrolled": false
   },
   "outputs": [],
   "source": [
    "df_combats.shape"
   ]
  },
  {
   "cell_type": "code",
   "execution_count": null,
   "metadata": {},
   "outputs": [],
   "source": [
    "df_combats.info()"
   ]
  },
  {
   "cell_type": "markdown",
   "metadata": {},
   "source": [
    "## Análise exploratória\n",
    "\n",
    "Após o processamento dos dados coletados, o próximo passo é seguir para algumas análises exploratórias, esta fase é uma das fases importantes do processo, pois nela será obtido maiores insigths sobre os detahes das lutas para seguir com a aplicação do modelo de Machine Learning."
   ]
  },
  {
   "cell_type": "markdown",
   "metadata": {},
   "source": [
    "### Valores Missing\n",
    "\n",
    "O primeiro passo é avaliar a porcentagem dos dados faltantes do dataset pré-processado e avaliar qual estratégia deverá ser seguida:"
   ]
  },
  {
   "cell_type": "code",
   "execution_count": null,
   "metadata": {
    "scrolled": false
   },
   "outputs": [],
   "source": [
    "missing_values(df_combats)"
   ]
  },
  {
   "cell_type": "markdown",
   "metadata": {},
   "source": [
    "Como podemos ver na relação acima as informações que representam o maior valor de dados em falta são:\n",
    "\n",
    "- Informação de Alcance dos golpes (ambos times) em torno de 3%.\n",
    "- A informação de idade para o time Azul, falta em torne de 1,5%\n",
    "\n",
    "Os demais dados faltantes representam uma pequena parcela do dataset e que são informações físicas dos lutadores."
   ]
  },
  {
   "cell_type": "code",
   "execution_count": null,
   "metadata": {
    "scrolled": true
   },
   "outputs": [],
   "source": [
    "df_combats[['Blue_Fighter_Age','Red_Fighter_Age']].plot.box()"
   ]
  },
  {
   "cell_type": "markdown",
   "metadata": {},
   "source": [
    "Existiam alguns lutadores onde a informação de idade estava incorreta, essas informações foram apagadas do dataset"
   ]
  },
  {
   "cell_type": "code",
   "execution_count": null,
   "metadata": {},
   "outputs": [],
   "source": [
    "df_combats.drop(df_combats[df_combats.Red_Fighter_Age < 18].index, inplace=True)\n",
    "df_combats.drop(df_combats[df_combats.Blue_Fighter_Age < 18].index, inplace=True)"
   ]
  },
  {
   "cell_type": "markdown",
   "metadata": {},
   "source": [
    "O gráfico a seguir, apresenta a dispersão dos dados de golpes/tentativas na cabeça e mostra uma leve acentuada na média de golpes pelo corner vermelho em relação aos golpes do corner adversário."
   ]
  },
  {
   "cell_type": "code",
   "execution_count": null,
   "metadata": {},
   "outputs": [],
   "source": [
    "df_combats[['B_HEAD','R_HEAD']].plot.box()"
   ]
  },
  {
   "cell_type": "markdown",
   "metadata": {},
   "source": [
    "Gerei um BoxPlot também da porcentagem dos golpes dados em uma luta no chão por cada corner:"
   ]
  },
  {
   "cell_type": "code",
   "execution_count": null,
   "metadata": {
    "scrolled": true
   },
   "outputs": [],
   "source": [
    "df_combats[['B_GROUND','R_GROUND']].plot.box()"
   ]
  },
  {
   "cell_type": "markdown",
   "metadata": {},
   "source": [
    "A lista dos **30 principais** lutadores com maior número de vitórias é apresentado a seguir:"
   ]
  },
  {
   "cell_type": "code",
   "execution_count": null,
   "metadata": {
    "scrolled": false
   },
   "outputs": [],
   "source": [
    "f, ax = plt.subplots(figsize=(18,5))\n",
    "df_combats.Winner.value_counts().head(30).plot.bar()"
   ]
  },
  {
   "cell_type": "code",
   "execution_count": null,
   "metadata": {
    "scrolled": true
   },
   "outputs": [],
   "source": [
    "print('Red ',round((df_combats[df_combats['R_fighter'] == df_combats['Winner']].shape[0] / df_combats.shape[0]),2))\n",
    "print('Blue',round((df_combats[df_combats['B_fighter'] == df_combats['Winner']].shape[0] / df_combats.shape[0]),2))"
   ]
  },
  {
   "cell_type": "markdown",
   "metadata": {},
   "source": [
    "Para aplicação do modelo é necessário realizar a troca dos valores categóricos para valores discretos, sendo assim, os próximos passos são responsáveis por esta tarefa:"
   ]
  },
  {
   "cell_type": "code",
   "execution_count": null,
   "metadata": {},
   "outputs": [],
   "source": [
    "#Tranforma variável resposta em discreta\n",
    "def set_discret_target(x):\n",
    "    if x['R_fighter'] == x['Winner']: \n",
    "        return 0\n",
    "    else: \n",
    "        return 1\n",
    "\n",
    "df_combats['Win_Model'] = df_combats.apply(set_discret_target, axis=1)"
   ]
  },
  {
   "cell_type": "code",
   "execution_count": null,
   "metadata": {
    "scrolled": false
   },
   "outputs": [],
   "source": [
    "df_combats[['R_fighter','B_fighter','Win_Model','Winner']].head(10)"
   ]
  },
  {
   "cell_type": "markdown",
   "metadata": {},
   "source": [
    "A biblioteca **LabelEncoder** foi utilizada para converter as informações categóricas em numéricas, assim o modelo poderá ser aplicádo:"
   ]
  },
  {
   "cell_type": "code",
   "execution_count": null,
   "metadata": {},
   "outputs": [],
   "source": [
    "from sklearn.preprocessing import LabelEncoder\n",
    "lb_make = LabelEncoder()\n",
    "df_combats[\"R_fighter_\"] =  lb_make.fit_transform(df_combats[\"R_fighter\"])\n",
    "df_combats[\"B_fighter_\"] =  lb_make.fit_transform(df_combats[\"B_fighter\"])\n",
    "\n",
    "df_combats[\"Referee_\"] =    lb_make.fit_transform(df_combats[\"Referee\"].astype(str))\n",
    "df_combats[\"location_\"] =   lb_make.fit_transform(df_combats[\"location\"])\n",
    "df_combats[\"Fight_type_\"] = lb_make.fit_transform(df_combats[\"Fight_type\"])\n",
    "df_combats[\"Format_\"] =     lb_make.fit_transform(df_combats[\"Format\"])"
   ]
  },
  {
   "cell_type": "code",
   "execution_count": null,
   "metadata": {},
   "outputs": [],
   "source": [
    "## Transformando variável categorica em dummies\n",
    "\n",
    "def set_winner_code(x):\n",
    "    if x['R_fighter'] == x['Winner']: \n",
    "        return x['R_fighter_']\n",
    "    else: \n",
    "        return x['B_fighter_']\n",
    "    \n",
    "def set_winner_team(x):\n",
    "    if x['R_fighter'] == x['Winner']: \n",
    "        return 'Red Team'\n",
    "    else: \n",
    "        return 'Blue Team'\n",
    "\n",
    "df_combats['Winner_Code'] = df_combats.apply(set_winner_code, axis=1)\n",
    "df_combats['Winner_Team'] = df_combats.apply(set_winner_team, axis=1)"
   ]
  },
  {
   "cell_type": "markdown",
   "metadata": {},
   "source": [
    "Os dados restantes que ficaram faltando são apagados antes da aplicação do modelo, esta decição foi tomada, pois os dados faltantes não eram significantes."
   ]
  },
  {
   "cell_type": "code",
   "execution_count": null,
   "metadata": {},
   "outputs": [],
   "source": [
    "#Apaga os dados faltantes\n",
    "df_combats.dropna(inplace=True)"
   ]
  },
  {
   "cell_type": "code",
   "execution_count": null,
   "metadata": {
    "scrolled": true
   },
   "outputs": [],
   "source": [
    "df_combats.shape"
   ]
  },
  {
   "cell_type": "markdown",
   "metadata": {},
   "source": [
    "O número de vitórias do corner vermelho é maior que o corner azul, neste gráfico podemos avaliar, onde o corner azul tem 30% a mais vitórias que o corner azul."
   ]
  },
  {
   "cell_type": "code",
   "execution_count": null,
   "metadata": {},
   "outputs": [],
   "source": [
    "df_combats[\"Winner_Team\"].value_counts(normalize=True).plot.bar()"
   ]
  },
  {
   "cell_type": "code",
   "execution_count": null,
   "metadata": {},
   "outputs": [],
   "source": [
    "#Salvar dataset processado\n",
    "df_combats.to_csv(\"data/processed_fight_data.csv\")"
   ]
  },
  {
   "cell_type": "code",
   "execution_count": null,
   "metadata": {},
   "outputs": [],
   "source": [
    "#apagar colunas categóricas\n",
    "df_combats_ = df_combats.drop([ 'Winner',\n",
    "                                'win_by',\n",
    "                                'R_fighter',\n",
    "                                'B_fighter',\n",
    "                                'Referee',\n",
    "                                'location',\n",
    "                                'Fight_type',\n",
    "                                'Format',\n",
    "                                'date',\n",
    "                                'Winner_Team'],axis=1)"
   ]
  },
  {
   "cell_type": "code",
   "execution_count": null,
   "metadata": {},
   "outputs": [],
   "source": [
    "df_combats_.shape"
   ]
  },
  {
   "cell_type": "markdown",
   "metadata": {},
   "source": [
    "### Análise de correlação\n",
    "\n",
    "Antes de treinar o modelo fiz a validação das variáveis e fui retirando as que tinham maior correlação, para evitar problemas de  de multicolinearidade, que é quando há variáveis que são muito correlacionadas e que podem gerar uma inclinação da correlação de uma forma incorreta. (troca de sinal ou estimativa de parâmetro muito enviesada), e o modelo com maior performance foi aplicado com a seguinte configuração do dataset:"
   ]
  },
  {
   "cell_type": "code",
   "execution_count": null,
   "metadata": {},
   "outputs": [],
   "source": [
    "#Retirar variáveis mais correlacionadas\n",
    "df_combats_model = df_combats_\n",
    "df_combats_model = df_combats_model.drop(columns=['R_TOTAL_STR.','B_TOTAL_STR.',\n",
    "                                                  'R_SIG_STR_pct','B_SIG_STR_pct',\n",
    "                                                   'Red_Fighter_Weight','Blue_Fighter_Weight',\n",
    "                                                   #'Red_Fighter_Height','Blue_Fighter_Height',\n",
    "                                                   #'Red_wins','Blue_wins',\n",
    "                                                   #'Red_losses','Blue_losses',\n",
    "                                           ])"
   ]
  },
  {
   "cell_type": "code",
   "execution_count": null,
   "metadata": {
    "scrolled": false
   },
   "outputs": [],
   "source": [
    "### Gráfico de correlacao\n",
    "plt.figure(figsize=(33,19))\n",
    "\n",
    "corr = df_combats_model.corr()\n",
    "sn.heatmap(corr, annot=True)\n",
    "\n",
    "plt.show()"
   ]
  },
  {
   "cell_type": "code",
   "execution_count": null,
   "metadata": {},
   "outputs": [],
   "source": [
    "df_combats_model.shape"
   ]
  },
  {
   "cell_type": "markdown",
   "metadata": {},
   "source": [
    "## Modelo - Classificação"
   ]
  },
  {
   "cell_type": "markdown",
   "metadata": {},
   "source": [
    "### Divisão do dataset e padronização da semente"
   ]
  },
  {
   "cell_type": "code",
   "execution_count": null,
   "metadata": {
    "scrolled": true
   },
   "outputs": [],
   "source": [
    "SEED = 0\n",
    "np.random.seed(SEED)\n",
    "cv = StratifiedKFold(n_splits = 5, shuffle = True)\n",
    "\n",
    "def intervalo_prec(results):\n",
    "    mean = results.mean()\n",
    "    dv = results.std()\n",
    "    print('Precisão média: {:.2f}%'.format(mean*100))\n",
    "    print('Intervalo de Precisão: [{:.2f}% ~ {:.2f}%]'\n",
    "          .format((mean - 2*dv)*100, (mean + 2*dv)*100))\n",
    "\n",
    "random_state = 1\n",
    "\n",
    "X = df_combats_model\n",
    "y = df_combats_model['Win_Model']\n",
    "\n",
    "X = X.drop(['Win_Model'],axis=1)\n",
    "\n",
    "X_train, X_test, y_train, y_test = train_test_split(X, y, random_state=random_state)"
   ]
  },
  {
   "cell_type": "markdown",
   "metadata": {},
   "source": [
    "### Random Forest"
   ]
  },
  {
   "cell_type": "code",
   "execution_count": null,
   "metadata": {},
   "outputs": [],
   "source": [
    "# Randon Forest\n",
    "rf1 = RandomForestClassifier(random_state=random_state)\n",
    "rf1.fit(X_train, y_train)\n",
    "rf1_y_val_pred = rf1.predict(X_test)\n",
    "\n",
    "results = cross_val_score(rf1, X_train, y_train, cv = cv, \n",
    "                          scoring = 'precision')\n",
    "intervalo_prec(results)"
   ]
  },
  {
   "cell_type": "markdown",
   "metadata": {},
   "source": [
    "### Support Vector Machines"
   ]
  },
  {
   "cell_type": "code",
   "execution_count": null,
   "metadata": {},
   "outputs": [],
   "source": [
    "##SVC\n",
    "svc = SVC(random_state=random_state)\n",
    "svc.fit(X_train, y_train)\n",
    "svc_y_val_pred = svc.predict(X_test)\n",
    "\n",
    "results = cross_val_score(svc, X_train, y_train, cv = cv, \n",
    "                          scoring = 'precision')\n",
    "intervalo_prec(results)"
   ]
  },
  {
   "cell_type": "markdown",
   "metadata": {},
   "source": [
    "### Arvore de decisão"
   ]
  },
  {
   "cell_type": "code",
   "execution_count": null,
   "metadata": {},
   "outputs": [],
   "source": [
    "dtc = DecisionTreeClassifier(max_depth=2)\n",
    "dtc.fit(X_train, y_train)\n",
    "dtc_y_val_pred = dtc.predict(X_test)\n",
    "\n",
    "results = cross_val_score(dtc, X_train, y_train, cv = cv, \n",
    "                          scoring = 'precision')\n",
    "intervalo_prec(results)"
   ]
  },
  {
   "cell_type": "markdown",
   "metadata": {},
   "source": [
    "### Regressão Linear"
   ]
  },
  {
   "cell_type": "code",
   "execution_count": null,
   "metadata": {},
   "outputs": [],
   "source": [
    "log = LogisticRegression(solver='liblinear')\n",
    "log.fit(X_train, y_train)\n",
    "log_y_val_pred = log.predict(X_test)\n",
    "\n",
    "results = cross_val_score(log, X_train, y_train, cv = cv, \n",
    "                          scoring = 'precision')\n",
    "intervalo_prec(results)"
   ]
  },
  {
   "cell_type": "markdown",
   "metadata": {},
   "source": [
    "### Resultados"
   ]
  },
  {
   "cell_type": "code",
   "execution_count": null,
   "metadata": {
    "scrolled": false
   },
   "outputs": [],
   "source": [
    "print('================= Regressão Logistica ===================\\n')\n",
    "model_performance(log, X_test, y_test, dtc_y_val_pred)\n",
    "print('=================== Arvore de decisao ===================\\n')\n",
    "model_performance(dtc, X_test, y_test, dtc_y_val_pred)\n",
    "print('=====================      SVN      =====================\\n')\n",
    "model_performance(svc, X_test, y_test, svc_y_val_pred)\n",
    "print('===================== Random Forest =====================\\n')\n",
    "model_performance(rf1, X_test, y_test, rf1_y_val_pred)\n",
    "\n",
    "print('\\n\\n**********************      ROC      **********************\\n\\n')\n",
    "ax = plt.gca()\n",
    "\n",
    "resp = metrics.plot_roc_curve(rf1, X_test, y_test, ax=ax)\n",
    "resp = metrics.plot_roc_curve(svc, X_test, y_test, ax=ax)\n",
    "resp = metrics.plot_roc_curve(log, X_test, y_test, ax=ax)\n",
    "resp = metrics.plot_roc_curve(dtc, X_test, y_test, ax=ax)\n",
    "plt.show()"
   ]
  }
 ],
 "metadata": {
  "kernelspec": {
   "display_name": "Python 3",
   "language": "python",
   "name": "python3"
  },
  "language_info": {
   "codemirror_mode": {
    "name": "ipython",
    "version": 3
   },
   "file_extension": ".py",
   "mimetype": "text/x-python",
   "name": "python",
   "nbconvert_exporter": "python",
   "pygments_lexer": "ipython3",
   "version": "3.8.3"
  }
 },
 "nbformat": 4,
 "nbformat_minor": 2
}
